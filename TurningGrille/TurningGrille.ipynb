{
  "nbformat": 4,
  "nbformat_minor": 0,
  "metadata": {
    "colab": {
      "name": "TurningGrilleCipher",
      "provenance": [],
      "collapsed_sections": [
        "jU8ydp1N0ZPu",
        "q4altwr8R7T_"
      ]
    },
    "kernelspec": {
      "name": "python3",
      "display_name": "Python 3"
    },
    "language_info": {
      "name": "python"
    }
  },
  "cells": [
    {
      "cell_type": "markdown",
      "metadata": {
        "id": "ccTuUL1thp8_"
      },
      "source": [
        "# **Implementación de Turning Grille en Python**\n",
        "_Juan Esteban Alarcón Bravo_"
      ]
    },
    {
      "cell_type": "markdown",
      "metadata": {
        "id": "3hAZMRAlmOPJ"
      },
      "source": [
        "## 1. Grilla y Mensaje\n",
        "\n",
        "En el caso de _Turning Grille_ no se usa la usual llave de texto sino que la grilla, una matriz cuadrada con agujeros que se rota en un sentido arbitrario, actúa como la \"llave\". Se inicia entonces el procedimiento solicitando al usuario el ***mensaje*** (`msg`) y las especificaciones de la grilla (Su ***dimensión*** `n`, el ***número de agujeros*** `x` y el ***sentido de rotación*** `x`). El mensaje se pone todo en mayúsculas, se eliminan los caracteres de espacio (en caso de tenerlos) y se hace padding con $X$ en caso de ser necesario:"
      ]
    },
    {
      "cell_type": "code",
      "metadata": {
        "colab": {
          "base_uri": "https://localhost:8080/"
        },
        "id": "wEJSaE0zP-WN",
        "outputId": "7dec51bf-b562-4259-d1c8-faa1bceb54e9"
      },
      "source": [
        "import numpy as np\n",
        "\n",
        "# Mensaje\n",
        "msg = input('\\nIngrese el mensaje: ')\n",
        "msg = msg.replace(\" \", \"\")\n",
        "msg = msg.upper()\n",
        "\n",
        "# Parámetros de la grilla\n",
        "n = int(input('\\nIngrese el tamaño (n) de la grilla: '))\n",
        "h = int(input('Ingrese la cantidad de huecos: '))\n",
        "\n",
        "# Grilla (\"Llave\")\n",
        "K = np.zeros((n, n))\n",
        "\n",
        "# Posiciones de los huecos\n",
        "print('Ingrese la posición (i,j) de cada hueco:')\n",
        "for num in range(0,h):\n",
        "  print('--------')\n",
        "  i = int(input('i:'))\n",
        "  j = int(input('j:'))\n",
        "  K[i, j] = 1;\n",
        "\n",
        "# Previsualización de la grilla\n",
        "print('\\nGrilla:')\n",
        "print(K)\n",
        "\n",
        "# Sentido de rotación\n",
        "rot = int(input('\\nIngrese el sentido de rotación:\\n 1. Izquierda \\n 2. Derecha \\n'))\n",
        "\n",
        "# Padding con 'X'\n",
        "while len(msg) < n*n:\n",
        "  msg += 'X'"
      ],
      "execution_count": 1,
      "outputs": [
        {
          "name": "stdout",
          "output_type": "stream",
          "text": [
            "\n",
            "Ingrese el mensaje: I Need a lot of Rest\n",
            "\n",
            "Ingrese el tamaño (n) de la grilla: 4\n",
            "Ingrese la cantidad de huecos: 4\n",
            "Ingrese la posición (i,j) de cada hueco:\n",
            "--------\n",
            "i:0\n",
            "j:0\n",
            "--------\n",
            "i:2\n",
            "j:1\n",
            "--------\n",
            "i:3\n",
            "j:2\n",
            "--------\n",
            "i:2\n",
            "j:3\n",
            "\n",
            "Grilla:\n",
            "[[1. 0. 0. 0.]\n",
            " [0. 0. 0. 0.]\n",
            " [0. 1. 0. 1.]\n",
            " [0. 0. 1. 0.]]\n",
            "\n",
            "Ingrese el sentido de rotación:\n",
            " 1. Izquierda \n",
            " 2. Derecha \n",
            "1\n"
          ]
        }
      ]
    },
    {
      "cell_type": "markdown",
      "metadata": {
        "id": "jU8ydp1N0ZPu"
      },
      "source": [
        "## 2. Inicialización de Diccionarios y Definición de Funciones Auxiliares"
      ]
    },
    {
      "cell_type": "markdown",
      "metadata": {
        "id": "o_Pf0w2a2ZbB"
      },
      "source": [
        "_**Diccionarios:**_\n",
        "\n",
        "Suponemos que se está usando un alfabeto de 26 caracteres ($ABCDEFGHIJKLMNOPQRSTUVWXYZ$).\n",
        "\n",
        "* `L2N` (\"Letter to Number\") permite mapear cada letra mayúscula a un número entero.\n",
        "* `N2L` (\"Number to Letter\") es el opuesto de `L2N`: a cada número le asigna una letra mayúscula."
      ]
    },
    {
      "cell_type": "code",
      "metadata": {
        "id": "8PBR__vE2L0i"
      },
      "source": [
        "# Diccionario: Letras a Números\n",
        "L2N = {\n",
        "  'A': 0,  'B': 1,  'C': 2,  'D': 3,  'E': 4,  'F': 5,  'G': 6,  'H': 7,  \n",
        "  'I': 8,  'J': 9,  'K': 10, 'L': 11, 'M': 12, 'N': 13, 'O': 14, 'P': 15, \n",
        "  'Q': 16, 'R': 17, 'S': 18, 'T': 19, 'U': 20, 'V': 21, 'W': 22, 'X': 23,\n",
        "  'Y': 24, 'Z': 25\n",
        "}\n",
        "  \n",
        "# Diccionario: Números a Letras\n",
        "N2L = {v: k for k, v in L2N.items()}"
      ],
      "execution_count": 2,
      "outputs": []
    },
    {
      "cell_type": "markdown",
      "metadata": {
        "id": "XFV14ilj2MNB"
      },
      "source": [
        "_**Funciones:**_\n",
        "* `matrixLeft()` y `matrixRight()` permiten rotar una matriz $K_{n \\times n}$ a la izquierda y a la derecha, respectivamente. Esta matriz $K$ es la grilla.\n",
        "* `msgToMatrix()` permite convertir un mensaje de string a matriz cuadrada de tamaño `n` para su tratamiento en el algoritmo ($msg \\rightarrow M_{n \\times n}$).\n",
        "* `getValues()` permite recuperar las letras de la matriz $M$ en las posiciones \"visibles\" a través de la grilla $K$ haciendo uso del diccionario `N2L`.\n",
        "* `hideValues()` hace un proceso inverso: oculta las letras usando el diccionario `L2N`."
      ]
    },
    {
      "cell_type": "code",
      "metadata": {
        "id": "J8YFcObr0pVk"
      },
      "source": [
        "def matrixLeft(K,n):\n",
        "  O =  np.zeros((n, n))\n",
        "  for i in range(0,n):\n",
        "    for j in range(0,n):\n",
        "      O[n-(j+1)][i] = K[i][j]\n",
        "  return O\n",
        "\n",
        "def matrixRight(K,n):\n",
        "  O =  np.zeros((n, n))\n",
        "  for i in range(0,n):\n",
        "    for j in range(0,n):\n",
        "      O[j][n-(i+1)] = K[i][j]\n",
        "  return O\n",
        "\n",
        "\n",
        "def msgToMatrix(msg,n):\n",
        "  M = np.zeros((n, n))\n",
        "  for l in range(0, len(msg)):\n",
        "    i = (int(l/n))\n",
        "    j = (int(l%n))\n",
        "    M[i][j] = L2N[msg[l]]\n",
        "  return M\n",
        "\n",
        "def getValues(M,K,n):\n",
        "  out = \"\"\n",
        "  for i in range(0,n):\n",
        "    for j in range(0,n):\n",
        "      if K[i][j] == 1:\n",
        "        out += N2L[M[i][j]]\n",
        "  return out\n",
        " \n",
        "def hideValues(l,K,n,M):\n",
        "  count = 0\n",
        "  for i in range(0,n):\n",
        "    for j in range(0,n):\n",
        "      if K[i][j] == 1:\n",
        "        M[i][j] = L2N[l[count]]\n",
        "        count += 1\n",
        "  return M"
      ],
      "execution_count": 3,
      "outputs": []
    },
    {
      "cell_type": "markdown",
      "metadata": {
        "id": "q4altwr8R7T_"
      },
      "source": [
        "## 3. Encripción y Desencripción"
      ]
    },
    {
      "cell_type": "markdown",
      "metadata": {
        "id": "D9pUxOKPIXSF"
      },
      "source": [
        "Para el proceso de encripción se ubican las letras del mensaje `msg` en la matriz $M$ siguiendo la guía de los huecos de la grilla $K$ y el sentido de rotación `rot`. El mensaje cifrado será entonces la matriz $M$ leída fila por fila, de arriba hacia abajo."
      ]
    },
    {
      "cell_type": "code",
      "metadata": {
        "id": "J9mo2NN52TOK"
      },
      "source": [
        "def encrypt(msg,K,n,h,rot):\n",
        "  M = np.zeros((n, n))\n",
        "  for x in range(0, 4):\n",
        "    l1 = int((len(msg)/h) * x)\n",
        "    l2 = int((len(msg)/h) * x) + h\n",
        "    \n",
        "    l = msg[l1:l2]\n",
        "\n",
        "    M = hideValues(l, K, n, M)\n",
        "    if rot == 1:\n",
        "      K = matrixLeft(K, n)\n",
        "    if rot == 2:\n",
        "      K = matrixRight(K, n)\n",
        "      \n",
        "  out = \"\"\n",
        "  for i in range(0,n):\n",
        "    for j in range(0,n):\n",
        "      out += N2L[M[i][j]]\n",
        "\n",
        "  return out"
      ],
      "execution_count": 4,
      "outputs": []
    },
    {
      "cell_type": "markdown",
      "metadata": {
        "id": "RpLytPXZIYoY"
      },
      "source": [
        "Para desencriptar, se inicia poniendo el mensaje `msg` en forma de matriz ($M$). Luego, se comienzan a recuperar los valores que marcan los huecos de la grilla $K$ (con la función `getValues()`); por último, se rota la grilla y se repite el proceso. El resultado final (`out`) será la concatenación de todas las letras recuperadas, en orden."
      ]
    },
    {
      "cell_type": "code",
      "metadata": {
        "id": "kqrd3dV32fkU"
      },
      "source": [
        "def decrypt(msg,K,n,h,rot):\n",
        "  M = msgToMatrix(msg, n)\n",
        "  out = \"\"\n",
        "  for giro in range(0, 4):\n",
        "    out += getValues(M,K,n)\n",
        "    if rot == 1:\n",
        "      K = matrixLeft(K, n)\n",
        "    if rot == 2:\n",
        "      K = matrixRight(K, n)\n",
        "  \n",
        "  return out"
      ],
      "execution_count": 5,
      "outputs": []
    },
    {
      "cell_type": "markdown",
      "metadata": {
        "id": "1Q3H9LM7SZ8_"
      },
      "source": [
        "## 4. Impresión de los resultados"
      ]
    },
    {
      "cell_type": "code",
      "metadata": {
        "colab": {
          "base_uri": "https://localhost:8080/"
        },
        "id": "5W49DsX0PI7d",
        "outputId": "c6811865-d4f4-430c-ef60-a9340ec6383a"
      },
      "source": [
        "print(\"TURNING GRILLE \\n¿Qué desea hacer?\")\n",
        "choice = int(input(\" 1. Encriptar \\n 2. Desencriptar \\n\"))\n",
        "\n",
        "if choice == 1:\n",
        "  print(\"\\n---------------\\n\\nMensaje Original: \" + msg)\n",
        "  print(\"Grilla: \")\n",
        "  print(K)\n",
        "  if rot == 1:\n",
        "    print(\"Rotación: Izquierda\")\n",
        "  if rot == 2:\n",
        "    print(\"Rotación: Derecha\")\n",
        "      \n",
        "  out = encrypt(msg,K,n,h,rot)\n",
        "  print(\"\\n---------------\\n\\nMensaje Cifrado: \" + out)\n",
        "\n",
        "elif choice == 2:\n",
        "  print(\"\\n---------------\\n\\nMensaje Cifrado: \" + msg)\n",
        "  print(\"Grilla: \")\n",
        "  print(K)\n",
        "  if rot == 1:\n",
        "    print(\"Rotación: Izquierda\")\n",
        "  if rot == 2:\n",
        "    print(\"Rotación: Derecha\")\n",
        "\n",
        "  out = decrypt(msg,K,n,h,rot)\n",
        "  print(\"\\n---------------\\n\\nMensaje descifrado: \" + out)"
      ],
      "execution_count": 6,
      "outputs": [
        {
          "output_type": "stream",
          "name": "stdout",
          "text": [
            "TURNING GRILLE \n",
            "¿Qué desea hacer?\n",
            " 1. Encriptar \n",
            " 2. Desencriptar \n",
            "1\n",
            "\n",
            "---------------\n",
            "\n",
            "Mensaje Original: INEEDALOTOFRESTX\n",
            "Grilla: \n",
            "[[1. 0. 0. 0.]\n",
            " [0. 0. 0. 0.]\n",
            " [0. 1. 0. 1.]\n",
            " [0. 0. 1. 0.]]\n",
            "Rotación: Izquierda\n",
            "\n",
            "---------------\n",
            "\n",
            "Mensaje Cifrado: ITDEOSFATNLEOXER\n"
          ]
        }
      ]
    }
  ]
}