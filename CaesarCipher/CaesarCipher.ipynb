{
  "nbformat": 4,
  "nbformat_minor": 0,
  "metadata": {
    "colab": {
      "name": "CaesarCipher",
      "provenance": [],
      "collapsed_sections": [
        "q4altwr8R7T_"
      ]
    },
    "kernelspec": {
      "name": "python3",
      "display_name": "Python 3"
    },
    "language_info": {
      "name": "python"
    }
  },
  "cells": [
    {
      "cell_type": "markdown",
      "metadata": {
        "id": "ccTuUL1thp8_"
      },
      "source": [
        "# **Implementación del cifrado César en Python**\n",
        "_Juan Esteban Alarcón Bravo_"
      ]
    },
    {
      "cell_type": "markdown",
      "metadata": {
        "id": "3hAZMRAlmOPJ"
      },
      "source": [
        "## 1. Llave y Mensaje\n",
        "\n",
        "Se inicia el procedimiento solicitando al usuario el ***mensaje*** (`msg`) y la ***llave*** (`k`) que es el desplazamiento a usar en el cifrado. El mensaje se pone todo en mayúsculas y se eliminan los caracteres de espacio:"
      ]
    },
    {
      "cell_type": "code",
      "metadata": {
        "colab": {
          "base_uri": "https://localhost:8080/"
        },
        "id": "wEJSaE0zP-WN",
        "outputId": "e681daa5-47d1-4f62-ea43-92a1b1e9ac92"
      },
      "source": [
        "msg = str(input(\"Ingrese el mensaje: \"))\n",
        "msg = msg.upper()\n",
        "msg = msg.replace(\" \", \"\")\n",
        "\n",
        "k = int(input(\"Ingrese el desplazamiento (k): \"))"
      ],
      "execution_count": 1,
      "outputs": [
        {
          "name": "stdout",
          "output_type": "stream",
          "text": [
            "Ingrese el mensaje: Original Plaintext\n",
            "Ingrese el desplazamiento (k): 6\n"
          ]
        }
      ]
    },
    {
      "cell_type": "markdown",
      "metadata": {
        "id": "q4altwr8R7T_"
      },
      "source": [
        "## 2. Encripción y Desencripción\n",
        "\n",
        "Cada caracter tiene un código numérico asociado, que coincide secuencialmente con el alfabeto a usar. Basta con desplazar los caracteres para lados opuestos para encriptar o desencriptar. Como se está usando un alfabeto de 26 caracteres ($ABCDEFGHIJKLMNOPQRSTUVWXYZ$), se aplica $\\mod 26$ a la operación:"
      ]
    },
    {
      "cell_type": "code",
      "metadata": {
        "id": "9XESoc6ol5CR"
      },
      "source": [
        "def encrypt(msg,k):\n",
        "    out = \"\"\n",
        "    for i in range(len(msg)):\n",
        "        char = msg[i]\n",
        "        out += chr((ord(char) + k - 65) % 26 + 65)\n",
        "    print(\"\\n---------------\\n\\nMensaje Original: \" + msg)\n",
        "    print(\"Desplazamiento (k): \" + str(k))\n",
        "    print(\"\\nTexto cifrado: \" + out)"
      ],
      "execution_count": 2,
      "outputs": []
    },
    {
      "cell_type": "code",
      "metadata": {
        "id": "hGR9VkAVRG15"
      },
      "source": [
        "def decrypt(msg,k):\n",
        "    out = \"\"\n",
        "    for i in range(len(msg)):\n",
        "        char = msg[i]\n",
        "        out += chr((ord(char) - k - 65) % 26 + 65)\n",
        "    print(\"\\n---------------\\n\\nTexto cifrado: \" + msg)\n",
        "    print(\"Desplazamiento (k): \" + str(k))\n",
        "    print(\"\\nMensaje descifrado: \" + out)"
      ],
      "execution_count": 3,
      "outputs": []
    },
    {
      "cell_type": "markdown",
      "metadata": {
        "id": "1Q3H9LM7SZ8_"
      },
      "source": [
        "## 3. Impresión de los resultados"
      ]
    },
    {
      "cell_type": "code",
      "metadata": {
        "colab": {
          "base_uri": "https://localhost:8080/"
        },
        "id": "5W49DsX0PI7d",
        "outputId": "15d9a5b9-8903-46d0-d200-3a173a4c6b38"
      },
      "source": [
        "print(\"CIFRADO CÉSAR \\n¿Qué desea hacer?\")\n",
        "choice = int(input(\" 1. Encriptar \\n 2. Desencriptar \\n\"))\n",
        "if choice == 1:\n",
        "  encrypt(msg,k)\n",
        "elif choice == 2:\n",
        "  decrypt(msg,k)"
      ],
      "execution_count": 4,
      "outputs": [
        {
          "output_type": "stream",
          "name": "stdout",
          "text": [
            "CIFRADO CÉSAR \n",
            "¿Qué desea hacer?\n",
            " 1. Encriptar \n",
            " 2. Desencriptar \n",
            "1\n",
            "\n",
            "---------------\n",
            "\n",
            "Mensaje Original: ORIGINALPLAINTEXT\n",
            "Desplazamiento (k): 6\n",
            "\n",
            "Texto cifrado: UXOMOTGRVRGOTZKDZ\n"
          ]
        }
      ]
    }
  ]
}