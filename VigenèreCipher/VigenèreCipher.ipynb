{
  "nbformat": 4,
  "nbformat_minor": 0,
  "metadata": {
    "colab": {
      "name": "VigenèreCipher",
      "provenance": [],
      "collapsed_sections": [
        "q4altwr8R7T_"
      ]
    },
    "kernelspec": {
      "name": "python3",
      "display_name": "Python 3"
    },
    "language_info": {
      "name": "python"
    }
  },
  "cells": [
    {
      "cell_type": "markdown",
      "metadata": {
        "id": "ccTuUL1thp8_"
      },
      "source": [
        "# **Implementación del cifrado Vigenère en Python**\n",
        "_Juan Esteban Alarcón Bravo_"
      ]
    },
    {
      "cell_type": "markdown",
      "metadata": {
        "id": "3hAZMRAlmOPJ"
      },
      "source": [
        "## 1. Llave y Mensaje\n",
        "\n",
        "Se inicia el procedimiento solicitando al usuario el ***mensaje*** (`msg`) y la ***llave*** (`k`). El mensaje y la llave se ponen todo en mayúsculas y se eliminan los caracteres de espacio (en caso de tenerlos):"
      ]
    },
    {
      "cell_type": "code",
      "metadata": {
        "colab": {
          "base_uri": "https://localhost:8080/"
        },
        "id": "wEJSaE0zP-WN",
        "outputId": "0a51f5d5-964b-4732-9db2-45977e5b4d17"
      },
      "source": [
        "msg = str(input(\"Ingrese el mensaje: \"))\n",
        "msg = msg.upper()\n",
        "msg = msg.replace(\" \", \"\")\n",
        "\n",
        "k = str(input(\"Ingrese la llave: \"))\n",
        "k = k.upper()\n",
        "k = k.replace(\" \", \"\")"
      ],
      "execution_count": 1,
      "outputs": [
        {
          "name": "stdout",
          "output_type": "stream",
          "text": [
            "Ingrese el mensaje: QIGVBVCNGJPBVVGOR\n",
            "Ingrese la llave: Cryptic\n"
          ]
        }
      ]
    },
    {
      "cell_type": "markdown",
      "metadata": {
        "id": "PKhA0ShSjbMt"
      },
      "source": [
        "Posteriormente, se utiliza ```cycleKey()``` para replicar los caracteres de ```k``` tantas veces sea necesario para que su longitud total sea igual a la del mensaje ```msg```. Esta nueva variable, que es un string de la misma longitud de ```msg``` pero con los caracteres de ```k``` replicados, se almacena en la variable ```key```:"
      ]
    },
    {
      "cell_type": "code",
      "metadata": {
        "id": "pxPf1flciBbH"
      },
      "source": [
        "def cycleKey(msg, k):\n",
        "    key = list(k)\n",
        "    if len(msg) == len(key):\n",
        "      return(key)\n",
        "    else:\n",
        "      for i in range(len(msg) - len(key)):\n",
        "        key.append(key[i % len(key)])\n",
        "    return(\"\".join(key))\n",
        "\n",
        "key = cycleKey(msg, k)"
      ],
      "execution_count": 2,
      "outputs": []
    },
    {
      "cell_type": "markdown",
      "metadata": {
        "id": "q4altwr8R7T_"
      },
      "source": [
        "## 2. Encripción y Desencripción\n",
        "\n",
        "Suponemos que se está usando un alfabeto de 26 caracteres ($ABCDEFGHIJKLMNOPQRSTUVWXYZ$). Cada una de las letras de este alfabeto tiene un valor numérico asociado a ellas; este valor es secuencial, tal como el alfabeto.\n",
        "\n",
        "Para encriptar, al valor de cada letra del mensaje se le **_suma_** el valor de cada letra de la clave; a este resultado se le aplica $\\mod 26$ y el número obtenido es el código de la nueva letra en el mensaje cifrado:"
      ]
    },
    {
      "cell_type": "code",
      "metadata": {
        "id": "sR2L4LLDkRvp"
      },
      "source": [
        "def encrypt(msg, k):\n",
        "  key = cycleKey(msg, k)\n",
        "  out = []\n",
        "  for i in range(len(msg)):\n",
        "    x = (ord(msg[i]) + ord(key[i])) % 26\n",
        "    x += ord('A')\n",
        "    out.append(chr(x))\n",
        "  print(\"\\n---------------\\n\\nMensaje Original: \" + msg)\n",
        "  print(\"Llave: \" + k)\n",
        "  print(\"\\nTexto cifrado: \" + \"\".join(out))"
      ],
      "execution_count": 3,
      "outputs": []
    },
    {
      "cell_type": "markdown",
      "metadata": {
        "id": "AZ85JZyrlF8a"
      },
      "source": [
        "Para la desencripción se hace el proceso inverso. al valor de cada letra del mensaje cifrado se le **_resta_** el valor de cada letra de la clave; a este resultado se le aplica $\\mod 26$ y el número obtenido es el código de la nueva letra en el mensaje recuperado:"
      ]
    },
    {
      "cell_type": "code",
      "metadata": {
        "id": "wBFI5Qk8V-Sg"
      },
      "source": [
        "def decrypt(msg, k):\n",
        "  key = cycleKey(msg, k)\n",
        "  out = []\n",
        "  for i in range(len(msg)):\n",
        "    # Se suma 26 para evitar problemas con números negativos:\n",
        "    x = (ord(msg[i]) - ord(key[i]) + 26) % 26\n",
        "    x += ord('A')\n",
        "    out.append(chr(x))\n",
        "  print(\"\\n---------------\\n\\nTexto cifrado: \" + msg)\n",
        "  print(\"Llave: \" + k)\n",
        "  print(\"\\nMensaje descifrado: \" + \"\".join(out))"
      ],
      "execution_count": 4,
      "outputs": []
    },
    {
      "cell_type": "markdown",
      "metadata": {
        "id": "1Q3H9LM7SZ8_"
      },
      "source": [
        "## 3. Impresión de los resultados"
      ]
    },
    {
      "cell_type": "code",
      "metadata": {
        "colab": {
          "base_uri": "https://localhost:8080/"
        },
        "id": "5W49DsX0PI7d",
        "outputId": "b4a69634-0791-4d7c-8809-3f5ce65109ff"
      },
      "source": [
        "print(\"CIFRADO VIGENÈRE \\n¿Qué desea hacer?\")\n",
        "choice = int(input(\" 1. Encriptar \\n 2. Desencriptar \\n\"))\n",
        "if choice == 1:\n",
        "  encrypt(msg,k)\n",
        "elif choice == 2:\n",
        "  decrypt(msg,k)"
      ],
      "execution_count": 5,
      "outputs": [
        {
          "output_type": "stream",
          "name": "stdout",
          "text": [
            "CIFRADO VIGENÈRE \n",
            "¿Qué desea hacer?\n",
            " 1. Encriptar \n",
            " 2. Desencriptar \n",
            "2\n",
            "\n",
            "---------------\n",
            "\n",
            "Texto cifrado: QIGVBVCNGJPBVVGOR\n",
            "Llave: CRYPTIC\n",
            "\n",
            "Mensaje descifrado: ORIGINALPLAINTEXT\n"
          ]
        }
      ]
    }
  ]
}