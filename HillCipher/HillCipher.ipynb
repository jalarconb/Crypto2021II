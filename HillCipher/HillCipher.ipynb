{
  "nbformat": 4,
  "nbformat_minor": 0,
  "metadata": {
    "colab": {
      "name": "HillCipher",
      "provenance": [],
      "collapsed_sections": [
        "jU8ydp1N0ZPu",
        "q4altwr8R7T_"
      ]
    },
    "kernelspec": {
      "name": "python3",
      "display_name": "Python 3"
    },
    "language_info": {
      "name": "python"
    }
  },
  "cells": [
    {
      "cell_type": "markdown",
      "metadata": {
        "id": "ccTuUL1thp8_"
      },
      "source": [
        "# **Implementación del cifrado Hill en Python**\n",
        "_Juan Esteban Alarcón Bravo_"
      ]
    },
    {
      "cell_type": "markdown",
      "metadata": {
        "id": "3hAZMRAlmOPJ"
      },
      "source": [
        "## 1. Llave y Mensaje\n",
        "\n",
        "Se inicia el procedimiento solicitando al usuario el ***mensaje*** (`msg`) y la ***llave*** (`key`). El mensaje se pone todo en mayúsculas, se eliminan los caracteres de espacio (en caso de tenerlos) y se rellena con $X$ hasta que su longitud sea un número par:"
      ]
    },
    {
      "cell_type": "code",
      "metadata": {
        "colab": {
          "base_uri": "https://localhost:8080/"
        },
        "id": "wEJSaE0zP-WN",
        "outputId": "52042b5b-2f37-4383-b0f2-dbdd90fc97b5"
      },
      "source": [
        "msg = str(input(\"Ingrese el mensaje: \"))\n",
        "key = str(input(\"Ingrese la llave: \"))\n",
        "\n",
        "msg = msg.upper()\n",
        "msg = msg.replace(\" \", \"\")\n",
        "\n",
        "key = key.split(',')\n",
        "key = list(map(int, key))\n",
        "\n",
        "# Relleno de msg con \"X\"\n",
        "while len(msg) % 2 != 0:\n",
        "  msg += \"X\"\n",
        "\n",
        "msgLen = len(msg)"
      ],
      "execution_count": 1,
      "outputs": [
        {
          "name": "stdout",
          "output_type": "stream",
          "text": [
            "Ingrese el mensaje: Original Plaintext\n",
            "Ingrese la llave: 2,3,3,6\n"
          ]
        }
      ]
    },
    {
      "cell_type": "markdown",
      "metadata": {
        "id": "jU8ydp1N0ZPu"
      },
      "source": [
        "## 2. Inicializacion de Variables y Definición de Funciones Auxiliares"
      ]
    },
    {
      "cell_type": "markdown",
      "metadata": {
        "id": "o_Pf0w2a2ZbB"
      },
      "source": [
        "_**Variables:**_\n",
        "* `keyMatrix` es la matriz de `key`. Es una matriz $M_{2\\times2}$.\n",
        "* `invKeyMatrix` es la matriz inversa de `key` $\\mod 26$. Es una matriz $M_{2\\times2}$.\n",
        "* `msgVector` es el vector de `msg`. Es un vector columna $V_{msgLen \\times 1}$.\n",
        "* `outVector` es el vector resultante de cifrar o descifrar `msg`. Tiene las mismas dimensiones de `msgVector`.\n",
        "* `cipherText` es el string del mensaje cifrado o descifrado obtenido."
      ]
    },
    {
      "cell_type": "code",
      "metadata": {
        "id": "8PBR__vE2L0i"
      },
      "source": [
        "keyMatrix = [[0] * 2 for i in range(2)]\n",
        "invKeyMatrix = [[0] * 2 for i in range(2)]\n",
        "msgVector = [[0] for i in range(msgLen)]\n",
        "outVector = [[0] for i in range(msgLen)]\n",
        "cipherText = []"
      ],
      "execution_count": 2,
      "outputs": []
    },
    {
      "cell_type": "markdown",
      "metadata": {
        "id": "XFV14ilj2MNB"
      },
      "source": [
        "_**Funciones:**_\n",
        "* `getKeyMatrix()` convierte el string original de `key` en una matriz de $2 \\times 2$. Este valor se le asigna a `keyMatrix`.\n",
        "* `inverseMatrix()` invierte la llave módulo 26 utilizando `modInv()` y `redux()`."
      ]
    },
    {
      "cell_type": "code",
      "metadata": {
        "id": "J8YFcObr0pVk"
      },
      "source": [
        "import numpy as np\n",
        "\n",
        "def getKeyMatrix(key):\n",
        "  k = 0\n",
        "  for i in range(2):\n",
        "    for j in range(2):\n",
        "      # keyMatrix[i][j] = ord(key[k]) % 65\n",
        "      keyMatrix[i][j] = key[k]\n",
        "      k += 1\n",
        "\n",
        "def inverseMatrix(A,p):\n",
        "  n = len(A)\n",
        "  A = np.matrix(A)\n",
        "  adj = np.zeros(shape=(n,n))\n",
        "  for i in range(0,n):\n",
        "    for j in range(0,n):\n",
        "      adj[i][j] = ((-1)**(i+j)*int(round(np.linalg.det(redux(A,j,i))))) % p\n",
        "  return (modInv(int(round(np.linalg.det(A))),p)*adj) % p\n",
        "\n",
        "def modInv(a,p):\n",
        "\tfor i in range(1,p):\n",
        "\t\tif (i*a)%p==1: return i\n",
        "\traise ValueError(\"La llave no tiene inverso mod \" + str(p))\n",
        " \n",
        "def redux(A,i,j):\n",
        "  A = np.array(A)\n",
        "  redux = np.zeros(shape = (len(A)-1,len(A)-1))\n",
        "  p = 0\n",
        "  for s in range(0,len(redux)):\n",
        "    if p==i: p=p+1\n",
        "    q=0\n",
        "    for t in range(0,len(redux)):\n",
        "      if q==j: q=q+1\n",
        "      redux[s][t]=A[p][q]\n",
        "      q=q+1\n",
        "    p=p+1\n",
        "  return redux"
      ],
      "execution_count": 3,
      "outputs": []
    },
    {
      "cell_type": "markdown",
      "metadata": {
        "id": "q4altwr8R7T_"
      },
      "source": [
        "## 3. Encripción y Desencripción"
      ]
    },
    {
      "cell_type": "markdown",
      "metadata": {
        "id": "D9pUxOKPIXSF"
      },
      "source": [
        "Suponemos que se está usando un alfabeto de 26 caracteres ($ABCDEFGHIJKLMNOPQRSTUVWXYZ$).\n",
        "\n",
        "Para encriptar, se realiza la operación:\n",
        "$$\n",
        "keyMatrix \\times msgVector = outVector\n",
        "$$"
      ]
    },
    {
      "cell_type": "code",
      "metadata": {
        "id": "J9mo2NN52TOK"
      },
      "source": [
        "def encrypt(msgVector, cipherText):\n",
        "  for i in range(2):\n",
        "    for j in range(1):\n",
        "      outVector[i][j] = 0\n",
        "      for x in range(2):\n",
        "        outVector[i][j] += keyMatrix[i][x] * msgVector[x][j]\n",
        "      outVector[i][j] = outVector[i][j] % 26\n",
        "    cipherText.append(chr(outVector[i][0] + 65))"
      ],
      "execution_count": 4,
      "outputs": []
    },
    {
      "cell_type": "markdown",
      "metadata": {
        "id": "RpLytPXZIYoY"
      },
      "source": [
        "Para la desencripción, por su parte, basta con cambiar la matriz de la llave por su inversa y realizar la misma multiplicación:\n",
        "$$\n",
        "invKeyMatrix \\times msgVector = outVector\n",
        "$$"
      ]
    },
    {
      "cell_type": "code",
      "metadata": {
        "id": "kqrd3dV32fkU"
      },
      "source": [
        "def decrypt(msgVector, cipherText):\n",
        "  for i in range(2):\n",
        "    for j in range(1):\n",
        "      outVector[i][j] = 0\n",
        "      for x in range(2):\n",
        "        outVector[i][j] += int(invKeyMatrix[i][x]) * msgVector[x][j]\n",
        "      outVector[i][j] = outVector[i][j] % 26\n",
        "    cipherText.append(chr(outVector[i][0] + 65))"
      ],
      "execution_count": 5,
      "outputs": []
    },
    {
      "cell_type": "code",
      "metadata": {
        "id": "ADwHT3esDh9P"
      },
      "source": [
        "# Generación de la matriz de la llave y su inversa modular:\n",
        "getKeyMatrix(key)\n",
        "invKeyMatrix = inverseMatrix(keyMatrix,26)\n",
        "\n",
        "# Vectorización de msg\n",
        "for i in range(msgLen):\n",
        "    msgVector[i][0] = ord(msg[i]) % 65"
      ],
      "execution_count": 6,
      "outputs": []
    },
    {
      "cell_type": "markdown",
      "metadata": {
        "id": "1Q3H9LM7SZ8_"
      },
      "source": [
        "## 4. Impresión de los resultados"
      ]
    },
    {
      "cell_type": "code",
      "metadata": {
        "colab": {
          "base_uri": "https://localhost:8080/"
        },
        "id": "5W49DsX0PI7d",
        "outputId": "ee6dc0c4-d7a0-41f0-cc32-8a3499656236"
      },
      "source": [
        "print(\"CIFRADO HILL (2x2) \\n¿Qué desea hacer?\")\n",
        "choice = int(input(\" 1. Encriptar \\n 2. Desencriptar \\n\"))\n",
        "\n",
        "if choice == 1:\n",
        "  print(\"\\n---------------\\n\\nMensaje Original: \" + msg)\n",
        "  print(\"Llave: \" + str(keyMatrix))\n",
        "  for x in range(0,msgLen,2):\n",
        "    encrypt(msgVector[x:x+2], cipherText)\n",
        "  print(\"\\nMensaje Cifrado: \", \"\".join(cipherText))\n",
        "elif choice == 2:\n",
        "  print(\"\\n---------------\\n\\nMensaje Cifrado: \" + msg)\n",
        "  print(\"Llave: \" + str(keyMatrix))\n",
        "  for x in range(0,msgLen,2):\n",
        "    decrypt(msgVector[x:x+2], cipherText)\n",
        "  print(\"\\nMensaje Descifrado: \", \"\".join(cipherText))"
      ],
      "execution_count": 7,
      "outputs": [
        {
          "output_type": "stream",
          "name": "stdout",
          "text": [
            "CIFRADO HILL (2x2) \n",
            "¿Qué desea hacer?\n",
            " 1. Encriptar \n",
            " 2. Desencriptar \n",
            "1\n",
            "\n",
            "---------------\n",
            "\n",
            "Mensaje Original: ORIGINALPLAINTEXTX\n",
            "Llave: [[2, 3], [3, 6]]\n",
            "\n",
            "Mensaje Cifrado:  BOIIDYHOLHYWFXZUDN\n"
          ]
        }
      ]
    }
  ]
}