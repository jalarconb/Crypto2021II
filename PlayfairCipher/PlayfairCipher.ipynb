{
  "nbformat": 4,
  "nbformat_minor": 0,
  "metadata": {
    "colab": {
      "name": "PlayfairCipher",
      "provenance": [],
      "collapsed_sections": [
        "vXBN2JlV2eNi",
        "oi9dRRx046Xk",
        "yCcSZB1M4-o3"
      ]
    },
    "kernelspec": {
      "name": "python3",
      "display_name": "Python 3"
    },
    "language_info": {
      "name": "python"
    }
  },
  "cells": [
    {
      "cell_type": "markdown",
      "metadata": {
        "id": "ccTuUL1thp8_"
      },
      "source": [
        "# **Implementación del algoritmo Playfair en Python**\n",
        "**_Juan Esteban Alarcón Bravo_**, basado en el código de [AtriSaxena](https://github.com/AtriSaxena/PLAYFAIR-CIPHER-PYTHON-/blob/master/PlayFairCipher.py)."
      ]
    },
    {
      "cell_type": "markdown",
      "metadata": {
        "id": "3hAZMRAlmOPJ"
      },
      "source": [
        "## 1. Llave y Mensaje\n",
        "\n",
        "Se inicia el procedimiento solicitando al usuario la ***llave*** (`key`) y el ***mensaje*** (`msg`). Estos dos elementos son posteriormente tratados: se eliminan los caracteres de espacio y se pone en mayúscula el string completo; en el caso de la llave, también se eliminan los caracteres repetidos y se cambian las $J$ por $I$, el resultado se guarda en `keyUnique`:"
      ]
    },
    {
      "cell_type": "code",
      "metadata": {
        "id": "9XESoc6ol5CR",
        "colab": {
          "base_uri": "https://localhost:8080/"
        },
        "outputId": "b136f371-0fd1-4f3b-dba1-d4012484b471"
      },
      "source": [
        "key = input(\"Ingrese la llave: \")\n",
        "key = key.replace(\" \", \"\")\n",
        "key = key.upper()\n",
        "\n",
        "# Eliminación de caracteres repetidos y reemplazo de la \"J\" por la \"I\":\n",
        "keyUnique = list()\n",
        "for c in key:\n",
        "  if c not in keyUnique:\n",
        "    if c == 'J':\n",
        "      keyUnique.append('I')\n",
        "    else:\n",
        "      keyUnique.append(c)\n",
        "\n",
        "msg = str(input(\"Ingrese el mensaje: \"))\n",
        "msg = msg.upper()\n",
        "msg = msg.replace(\" \", \"\")"
      ],
      "execution_count": 1,
      "outputs": [
        {
          "name": "stdout",
          "output_type": "stream",
          "text": [
            "Ingrese la llave: cryptic\n",
            "Ingrese el mensaje: NY AF AM EG TK BA SR DZ PZ\n"
          ]
        }
      ]
    },
    {
      "cell_type": "markdown",
      "metadata": {
        "id": "1Aw91w5anMFq"
      },
      "source": [
        "## 2. Matriz de Playfair\n",
        "\n",
        "El algoritmo de Playfair trabaja con una matriz de caracteres de $5 \\times 5$.\n",
        "* Se inicia agregando los demás caracteres faltantes a `keyUnique` hasta llegar a los 25 caracteres en total.\n",
        "* Se crea una matriz $5 \\times 5$ rellena de ceros de nombre `playfairMatrix`.\n",
        "* Se \"rellena\" esta matriz con los valores de `keyUnique`. Esta es la **matriz de Playfair** que se usará en el algoritmo."
      ]
    },
    {
      "cell_type": "code",
      "metadata": {
        "id": "vI7oUcxhhj3_",
        "colab": {
          "base_uri": "https://localhost:8080/"
        },
        "outputId": "a2ed3858-ef44-4a1b-dc82-d081b36c3a0a"
      },
      "source": [
        "# Se agregan más caracteres a la llave (sin repetir y hasta length=25)\n",
        "flag = True\n",
        "for i in range(65,91):\n",
        "  if chr(i) not in keyUnique:\n",
        "    if i == 73 and chr(74) not in keyUnique:\n",
        "      keyUnique.append(\"I\")\n",
        "      flag = False\n",
        "    elif flag and i == 73 or i == 74:\n",
        "      pass\n",
        "    else:\n",
        "      keyUnique.append(chr(i))\n",
        "\n",
        "# Creación e Inicialización de la Matriz Playfair (5x5)\n",
        "playfairMatrix = [[0 for i in range(5)] for j in range(5)]\n",
        "\n",
        "# Rellenando la matriz con keyUnique\n",
        "k = 0\n",
        "for i in range(0,5):\n",
        "  for j in range(0,5):\n",
        "    playfairMatrix[i][j] = keyUnique[k]\n",
        "    k += 1\n",
        "\n",
        "# Vista previa de la matriz\n",
        "print(\"Matriz de Playfair:\\n\")\n",
        "for i in range(0,5):\n",
        "  print(playfairMatrix[i])"
      ],
      "execution_count": 2,
      "outputs": [
        {
          "output_type": "stream",
          "name": "stdout",
          "text": [
            "Matriz de Playfair:\n",
            "\n",
            "['C', 'R', 'Y', 'P', 'T']\n",
            "['I', 'A', 'B', 'D', 'E']\n",
            "['F', 'G', 'H', 'K', 'L']\n",
            "['M', 'N', 'O', 'Q', 'S']\n",
            "['U', 'V', 'W', 'X', 'Z']\n"
          ]
        }
      ]
    },
    {
      "cell_type": "markdown",
      "metadata": {
        "id": "vXBN2JlV2eNi"
      },
      "source": [
        "## 3. Encripción y Desencripción\n",
        "\n",
        "Para el proceso de encripción y desencripción es necesaria la función auxiliar `locateIndex()` para averigüar la posición de los caracteres en la matriz de Playfair."
      ]
    },
    {
      "cell_type": "code",
      "metadata": {
        "id": "YxPFMJkz1aAU"
      },
      "source": [
        "def locateIndex(c): # Obtiene la localización de cada caracter de la matriz\n",
        "    loc = list()\n",
        "    if c == 'J':\n",
        "        c = 'I'\n",
        "    for i ,j in enumerate(playfairMatrix):\n",
        "        for k,l in enumerate(j):\n",
        "            if c == l:\n",
        "                loc.append(i)\n",
        "                loc.append(k)\n",
        "                return loc"
      ],
      "execution_count": 3,
      "outputs": []
    },
    {
      "cell_type": "markdown",
      "metadata": {
        "id": "oi9dRRx046Xk"
      },
      "source": [
        "### 3.1. Encripción"
      ]
    },
    {
      "cell_type": "code",
      "metadata": {
        "id": "L0GVcDD949C2"
      },
      "source": [
        "def encrypt(msg): # Encripción del mensaje\n",
        "  \n",
        "  for s in range(0,len(msg)+1,2):\n",
        "    if s < len(msg)-1:\n",
        "      if msg[s] == msg[s+1]:\n",
        "        msg = msg[:s+1]+'X'+msg[s+1:]\n",
        "  \n",
        "  if len(msg)%2 != 0:\n",
        "    msg = msg[:]+'X'\n",
        "  \n",
        "  print(\"\\n---------------\\n\\nMensaje: {0}\\nLlave: {1}\\n\\nTexto cifrado: \".format(msg,key),end=' ')\n",
        "  \n",
        "  i = 0\n",
        "  while i < len(msg):\n",
        "    loc = list()\n",
        "    loc = locateIndex(msg[i])\n",
        "    loc1 = list()\n",
        "    loc1 = locateIndex(msg[i+1])\n",
        "    if loc[1] == loc1[1]:\n",
        "      print(\"{}{}\".format(playfairMatrix[(loc[0]+1)%5][loc[1]],\n",
        "                          playfairMatrix[(loc1[0]+1)%5][loc1[1]]),end=' ')\n",
        "    elif loc[0] == loc1[0]:\n",
        "      print(\"{}{}\".format(playfairMatrix[loc[0]][(loc[1]+1)%5],\n",
        "                          playfairMatrix[loc1[0]][(loc1[1]+1)%5]),end=' ')\n",
        "    else:\n",
        "      print(\"{}{}\".format(playfairMatrix[loc[0]][loc1[1]],\n",
        "                          playfairMatrix[loc1[0]][loc[1]]),end=' ')\n",
        "    i += 2 # Se avanza de a dos porque se analiza de a pares de caracteres"
      ],
      "execution_count": 4,
      "outputs": []
    },
    {
      "cell_type": "markdown",
      "metadata": {
        "id": "yCcSZB1M4-o3"
      },
      "source": [
        "### 3.2. Desencripción"
      ]
    },
    {
      "cell_type": "code",
      "metadata": {
        "id": "0Pbq8q3r5Ag5"
      },
      "source": [
        "def decrypt(msg): # Desencripción del mensaje\n",
        "    \n",
        "    print(\"\\n---------------\\n\\nMensaje: {0}\\nLlave: {1}\\n\\nTexto plano: \".format(msg,key),end=' ')\n",
        "\n",
        "    i=0\n",
        "    while i<len(msg):\n",
        "      loc = list()\n",
        "      loc = locateIndex(msg[i])\n",
        "      loc1 = list()\n",
        "      loc1 = locateIndex(msg[i+1])\n",
        "      if loc[1] == loc1[1]:\n",
        "        print(\"{}{}\".format(playfairMatrix[(loc[0]-1)%5][loc[1]],\n",
        "                            playfairMatrix[(loc1[0]-1)%5][loc1[1]]),end=' ')\n",
        "      elif loc[0] == loc1[0]:\n",
        "        print(\"{}{}\".format(playfairMatrix[loc[0]][(loc[1]-1)%5],\n",
        "                            playfairMatrix[loc1[0]][(loc1[1]-1)%5]),end=' ')  \n",
        "      else:\n",
        "        print(\"{}{}\".format(playfairMatrix[loc[0]][loc1[1]],\n",
        "                            playfairMatrix[loc1[0]][loc[1]]),end=' ')    \n",
        "      i += 2 # Se avanza de a dos porque se analiza de a pares de caracteres"
      ],
      "execution_count": 5,
      "outputs": []
    },
    {
      "cell_type": "markdown",
      "metadata": {
        "id": "6DfPZvSO58QH"
      },
      "source": [
        "## 4. Impresión de los resultados"
      ]
    },
    {
      "cell_type": "code",
      "metadata": {
        "colab": {
          "base_uri": "https://localhost:8080/"
        },
        "id": "YszTx9UI3VoE",
        "outputId": "3162428f-ea01-4c9d-e364-60be07345f0b"
      },
      "source": [
        "print(\"ALGORITMO PLAYFAIR \\n¿Qué desea hacer?\")\n",
        "choice = int(input(\" 1. Encriptar \\n 2. Desencriptar \\n\"))\n",
        "if choice == 1:\n",
        "  encrypt(msg)\n",
        "elif choice == 2:\n",
        "  decrypt(msg)"
      ],
      "execution_count": 6,
      "outputs": [
        {
          "output_type": "stream",
          "name": "stdout",
          "text": [
            "ALGORITMO PLAYFAIR \n",
            "¿Qué desea hacer?\n",
            " 1. Encriptar \n",
            " 2. Desencriptar \n",
            "2\n",
            "\n",
            "---------------\n",
            "\n",
            "Mensaje: NYAFAMEGTKBASRDZPZ\n",
            "Llave: CRYPTIC\n",
            "\n",
            "Texto plano:  OR IG IN AL PL AI NT EX TX "
          ]
        }
      ]
    }
  ]
}